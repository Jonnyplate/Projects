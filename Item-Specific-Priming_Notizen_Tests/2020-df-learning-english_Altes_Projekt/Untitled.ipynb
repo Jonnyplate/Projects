{
 "cells": [
  {
   "cell_type": "code",
   "execution_count": 156,
   "metadata": {},
   "outputs": [],
   "source": [
    "import numpy as np\n",
    "import pandas as pd\n",
    "import os\n",
    "from os import listdir\n",
    "from os.path import isfile, join\n",
    "import glob\n",
    "\n",
    "import sys\n",
    "import seaborn as sns\n"
   ]
  },
  {
   "cell_type": "code",
   "execution_count": 157,
   "metadata": {},
   "outputs": [],
   "source": [
    "mypath = os. getcwd()"
   ]
  },
  {
   "cell_type": "code",
   "execution_count": 158,
   "metadata": {},
   "outputs": [
    {
     "name": "stdout",
     "output_type": "stream",
     "text": [
      "C:\\Users\\Hannah\\Desktop\\Repos\\PAVLOVIA\\2020-df-learning-german\\data\n",
      "test\n",
      "['C:\\\\Users\\\\Hannah\\\\Desktop\\\\Repos\\\\PAVLOVIA\\\\2020-df-learning-german\\\\data\\\\2020-df-learning-german_67getpwrcwbhxh9_SESSION_2020-07-30_21h19.13.954.csv']\n"
     ]
    }
   ],
   "source": [
    "mypath = mypath + \"\\data\"\n",
    "print(mypath)\n",
    "print('test')\n",
    "#get file names in data folder\n",
    "files = glob.glob(os.path.join(mypath, \"*.csv\"))\n",
    "print(files)"
   ]
  },
  {
   "cell_type": "code",
   "execution_count": 159,
   "metadata": {},
   "outputs": [],
   "source": [
    "li = []"
   ]
  },
  {
   "cell_type": "code",
   "execution_count": 160,
   "metadata": {},
   "outputs": [
    {
     "name": "stdout",
     "output_type": "stream",
     "text": [
      "                 trial_type  trial_index  time_elapsed internal_node_id  \\\n",
      "0                  pavlovia            0             3          0.0-0.0   \n",
      "1    html-keyboard-response            1           518  0.0-1.0-0.0-0.0   \n",
      "2    html-keyboard-response            2           718  0.0-1.0-0.0-1.0   \n",
      "3      html-button-response            3          2212  0.0-1.0-0.0-2.0   \n",
      "4    html-keyboard-response            4          2838  0.0-1.0-0.0-3.0   \n",
      "..                      ...          ...           ...              ...   \n",
      "748           survey-likert          748        436538  0.0-7.0-0.0-6.0   \n",
      "749             survey-text          749        438579  0.0-7.0-0.0-7.0   \n",
      "750     survey-multi-choice          750        440818  0.0-7.0-0.0-8.0   \n",
      "751           survey-likert          751        442283  0.0-7.0-0.0-9.0   \n",
      "752    html-button-response          752        443290      0.0-7.0-1.0   \n",
      "\n",
      "             subject      exp_part    use        rt  \\\n",
      "0    67getpwrcwbhxh9           NaN  False       NaN   \n",
      "1    67getpwrcwbhxh9       welcome  False   514.050   \n",
      "2    67getpwrcwbhxh9       welcome  False   198.815   \n",
      "3    67getpwrcwbhxh9       welcome   True  1492.865   \n",
      "4    67getpwrcwbhxh9       welcome  False   624.210   \n",
      "..               ...           ...    ...       ...   \n",
      "748  67getpwrcwbhxh9        survey   True  4907.520   \n",
      "749  67getpwrcwbhxh9        survey   True  2038.335   \n",
      "750  67getpwrcwbhxh9        survey   True  2238.540   \n",
      "751  67getpwrcwbhxh9        survey   True  1462.505   \n",
      "752  67getpwrcwbhxh9  instructions   True  1005.495   \n",
      "\n",
      "                                              stimulus  key_press  ...  \\\n",
      "0                                                  NaN        NaN  ...   \n",
      "1    <div align=left><strong>Liebe Teilnehmerin, li...       32.0  ...   \n",
      "2    <div align=left><strong> Ablauf dieser Studie:...       32.0  ...   \n",
      "3    <div align=left><strong> Informierte Einwillig...        NaN  ...   \n",
      "4    <div align=left><strong> Hinweise zur Durchfüh...       32.0  ...   \n",
      "..                                                 ...        ...  ...   \n",
      "748                                                NaN        NaN  ...   \n",
      "749                                                NaN        NaN  ...   \n",
      "750                                                NaN        NaN  ...   \n",
      "751                                                NaN        NaN  ...   \n",
      "752  <div align=left> Geschafft - Vielen Dank für I...        NaN  ...   \n",
      "\n",
      "     forget_condition list trial_num block_num block response  test_part  \\\n",
      "0                 NaN  NaN       NaN       NaN   NaN      NaN        NaN   \n",
      "1                 NaN  NaN       NaN       NaN   NaN      NaN        NaN   \n",
      "2                 NaN  NaN       NaN       NaN   NaN      NaN        NaN   \n",
      "3                 NaN  NaN       NaN       NaN   NaN      NaN        NaN   \n",
      "4                 NaN  NaN       NaN       NaN   NaN      NaN        NaN   \n",
      "..                ...  ...       ...       ...   ...      ...        ...   \n",
      "748               NaN  NaN       NaN       NaN   NaN      NaN        NaN   \n",
      "749               NaN  NaN       NaN       NaN   NaN      NaN        NaN   \n",
      "750               NaN  NaN       NaN       NaN   NaN      NaN        NaN   \n",
      "751               NaN  NaN       NaN       NaN   NaN      NaN        NaN   \n",
      "752               NaN  NaN       NaN       NaN   NaN      NaN        NaN   \n",
      "\n",
      "    n_span sequence num_spaces  \n",
      "0      NaN      NaN        NaN  \n",
      "1      NaN      NaN        NaN  \n",
      "2      NaN      NaN        NaN  \n",
      "3      NaN      NaN        NaN  \n",
      "4      NaN      NaN        NaN  \n",
      "..     ...      ...        ...  \n",
      "748    NaN      NaN        NaN  \n",
      "749    NaN      NaN        NaN  \n",
      "750    NaN      NaN        NaN  \n",
      "751    NaN      NaN        NaN  \n",
      "752    NaN      NaN        NaN  \n",
      "\n",
      "[753 rows x 30 columns]\n"
     ]
    }
   ],
   "source": [
    "raw_df = pd.concat(\n",
    "    (pd.read_csv(f) for f in files),\n",
    "    sort=False)\n",
    "print(raw_df)"
   ]
  },
  {
   "cell_type": "code",
   "execution_count": 161,
   "metadata": {},
   "outputs": [
    {
     "name": "stdout",
     "output_type": "stream",
     "text": [
      "['welcome' 'demographics' 'practice_no_cue' 'practice_cue'\n",
      " 'practice_recog' 'prime' 'corsi' 'probe' 'survey' 'instructions']\n"
     ]
    }
   ],
   "source": [
    "data = raw_df[raw_df.use == True]\n",
    "\n",
    "#get unique exp_part identifiers\n",
    "parts = data.exp_part.unique()\n",
    "print(parts)"
   ]
  },
  {
   "cell_type": "code",
   "execution_count": 162,
   "metadata": {},
   "outputs": [
    {
     "data": {
      "text/plain": [
       "['trial_type',\n",
       " 'trial_index',\n",
       " 'time_elapsed',\n",
       " 'internal_node_id',\n",
       " 'subject',\n",
       " 'exp_part',\n",
       " 'use',\n",
       " 'rt',\n",
       " 'stimulus',\n",
       " 'key_press',\n",
       " 'button_pressed',\n",
       " 'responses',\n",
       " 'question_order',\n",
       " 'trial_part',\n",
       " 'correct',\n",
       " 'resp_map',\n",
       " 'correct_resp',\n",
       " 'probe_condition',\n",
       " 'category',\n",
       " 'image',\n",
       " 'forget_condition',\n",
       " 'list',\n",
       " 'trial_num',\n",
       " 'block_num',\n",
       " 'block',\n",
       " 'response',\n",
       " 'test_part',\n",
       " 'n_span',\n",
       " 'sequence',\n",
       " 'num_spaces']"
      ]
     },
     "execution_count": 162,
     "metadata": {},
     "output_type": "execute_result"
    }
   ],
   "source": [
    "list(data.columns) "
   ]
  },
  {
   "cell_type": "code",
   "execution_count": 163,
   "metadata": {},
   "outputs": [
    {
     "name": "stdout",
     "output_type": "stream",
     "text": [
      "             trial_type  trial_index  time_elapsed internal_node_id  \\\n",
      "3  html-button-response            3          2212  0.0-1.0-0.0-2.0   \n",
      "\n",
      "           subject exp_part   use        rt  \\\n",
      "3  67getpwrcwbhxh9  welcome  True  1492.865   \n",
      "\n",
      "                                            stimulus  key_press  ...  \\\n",
      "3  <div align=left><strong> Informierte Einwillig...        NaN  ...   \n",
      "\n",
      "   forget_condition list trial_num block_num block response  test_part n_span  \\\n",
      "3               NaN  NaN       NaN       NaN   NaN      NaN        NaN    NaN   \n",
      "\n",
      "  sequence num_spaces  \n",
      "3      NaN        NaN  \n",
      "\n",
      "[1 rows x 30 columns]\n"
     ]
    },
    {
     "data": {
      "text/plain": [
       "['trial_type',\n",
       " 'trial_index',\n",
       " 'time_elapsed',\n",
       " 'internal_node_id',\n",
       " 'subject',\n",
       " 'exp_part',\n",
       " 'use',\n",
       " 'rt',\n",
       " 'stimulus',\n",
       " 'key_press',\n",
       " 'button_pressed',\n",
       " 'responses',\n",
       " 'question_order',\n",
       " 'trial_part',\n",
       " 'correct',\n",
       " 'resp_map',\n",
       " 'correct_resp',\n",
       " 'probe_condition',\n",
       " 'category',\n",
       " 'image',\n",
       " 'forget_condition',\n",
       " 'list',\n",
       " 'trial_num',\n",
       " 'block_num',\n",
       " 'block',\n",
       " 'response',\n",
       " 'test_part',\n",
       " 'n_span',\n",
       " 'sequence',\n",
       " 'num_spaces']"
      ]
     },
     "execution_count": 163,
     "metadata": {},
     "output_type": "execute_result"
    }
   ],
   "source": [
    "df_welcome = data[data.exp_part == 'welcome']\n",
    "print(df_welcome)\n",
    "list(df_welcome.columns)"
   ]
  },
  {
   "cell_type": "code",
   "execution_count": 164,
   "metadata": {},
   "outputs": [],
   "source": [
    "df_welcome = df_welcome[[\n",
    "       'trial_type', \n",
    "       'trial_index', \n",
    "       'button_pressed',\n",
    "       'subject',\n",
    "       'rt',\n",
    "       'block_num',\n",
    "       'block'\n",
    "        ]]"
   ]
  },
  {
   "cell_type": "code",
   "execution_count": 165,
   "metadata": {},
   "outputs": [
    {
     "name": "stdout",
     "output_type": "stream",
     "text": [
      "             trial_type  trial_index  button_pressed          subject  \\\n",
      "3  html-button-response            3             0.0  67getpwrcwbhxh9   \n",
      "\n",
      "         rt  block_num block  \n",
      "3  1492.865        NaN   NaN  \n"
     ]
    }
   ],
   "source": [
    "print(df_welcome)"
   ]
  },
  {
   "cell_type": "code",
   "execution_count": 166,
   "metadata": {},
   "outputs": [
    {
     "name": "stdout",
     "output_type": "stream",
     "text": [
      "            trial_type  trial_index  time_elapsed internal_node_id  \\\n",
      "5          survey-text            5          4036  0.0-1.0-1.0-0.0   \n",
      "6  survey-multi-choice            6          7221  0.0-1.0-1.0-1.0   \n",
      "\n",
      "           subject      exp_part   use        rt stimulus  key_press  ...  \\\n",
      "5  67getpwrcwbhxh9  demographics  True  1195.865      NaN        NaN  ...   \n",
      "6  67getpwrcwbhxh9  demographics  True  3181.760      NaN        NaN  ...   \n",
      "\n",
      "   forget_condition list trial_num block_num block response  test_part n_span  \\\n",
      "5               NaN  NaN       NaN       NaN   NaN      NaN        NaN    NaN   \n",
      "6               NaN  NaN       NaN       NaN   NaN      NaN        NaN    NaN   \n",
      "\n",
      "  sequence num_spaces  \n",
      "5      NaN        NaN  \n",
      "6      NaN        NaN  \n",
      "\n",
      "[2 rows x 30 columns]\n"
     ]
    }
   ],
   "source": [
    "\n",
    "#demographics\n",
    "df_demographics = data[data.exp_part == 'demographics']\n",
    "\n",
    "print(df_demographics)"
   ]
  },
  {
   "cell_type": "code",
   "execution_count": 167,
   "metadata": {},
   "outputs": [],
   "source": [
    "df_demographics = df_demographics[[\n",
    "       'trial_type', \n",
    "       'trial_index', \n",
    "       'subject',\n",
    "       'rt', \n",
    "       'responses', \n",
    "       'question_order'\n",
    "        ]]\n"
   ]
  },
  {
   "cell_type": "code",
   "execution_count": 168,
   "metadata": {},
   "outputs": [
    {
     "name": "stdout",
     "output_type": "stream",
     "text": [
      "3              welcome\n",
      "5         demographics\n",
      "6         demographics\n",
      "11     practice_no_cue\n",
      "13     practice_no_cue\n",
      "            ...       \n",
      "748             survey\n",
      "749             survey\n",
      "750             survey\n",
      "751             survey\n",
      "752       instructions\n",
      "Name: exp_part, Length: 227, dtype: object\n"
     ]
    }
   ],
   "source": [
    "print(data.exp_part)\n",
    "trial_parts = pd.Series(['practice', 'prime', 'practice_forget',\n",
    "             'practice_recognition', 'prime_forget',\n",
    "             'probe'])"
   ]
  },
  {
   "cell_type": "code",
   "execution_count": 169,
   "metadata": {},
   "outputs": [],
   "source": [
    "df_test = data[data.exp_part.isin(trial_parts)]"
   ]
  },
  {
   "cell_type": "code",
   "execution_count": 170,
   "metadata": {},
   "outputs": [
    {
     "name": "stdout",
     "output_type": "stream",
     "text": [
      "           trial_type  trial_index  time_elapsed  internal_node_id  \\\n",
      "133  categorize-image          133         15720   0.0-4.0-1.0-1.0   \n",
      "137  categorize-image          137         15750   0.0-4.0-1.0-1.1   \n",
      "141  categorize-image          141         15781   0.0-4.0-1.0-1.2   \n",
      "145  categorize-image          145         15810   0.0-4.0-1.0-1.3   \n",
      "149  categorize-image          149         15838   0.0-4.0-1.0-1.4   \n",
      "..                ...          ...           ...               ...   \n",
      "732  categorize-image          732        421357  0.0-6.0-1.0-1.27   \n",
      "734  categorize-image          734        421375  0.0-6.0-1.0-1.28   \n",
      "736  categorize-image          736        421395  0.0-6.0-1.0-1.29   \n",
      "738  categorize-image          738        421416  0.0-6.0-1.0-1.30   \n",
      "740  categorize-image          740        421435  0.0-6.0-1.0-1.31   \n",
      "\n",
      "             subject exp_part   use  rt  \\\n",
      "133  67getpwrcwbhxh9    prime  True NaN   \n",
      "137  67getpwrcwbhxh9    prime  True NaN   \n",
      "141  67getpwrcwbhxh9    prime  True NaN   \n",
      "145  67getpwrcwbhxh9    prime  True NaN   \n",
      "149  67getpwrcwbhxh9    prime  True NaN   \n",
      "..               ...      ...   ...  ..   \n",
      "732  67getpwrcwbhxh9    probe  True NaN   \n",
      "734  67getpwrcwbhxh9    probe  True NaN   \n",
      "736  67getpwrcwbhxh9    probe  True NaN   \n",
      "738  67getpwrcwbhxh9    probe  True NaN   \n",
      "740  67getpwrcwbhxh9    probe  True NaN   \n",
      "\n",
      "                                  stimulus  key_press  ...  forget_condition  \\\n",
      "133  ./Stimuli/SelectedImages/SN/SN181.bmp        NaN  ...            forget   \n",
      "137  ./Stimuli/SelectedImages/SM/SM207.bmp        NaN  ...          remember   \n",
      "141  ./Stimuli/SelectedImages/SN/SN182.bmp        NaN  ...          remember   \n",
      "145  ./Stimuli/SelectedImages/SM/SM213.bmp        NaN  ...            forget   \n",
      "149  ./Stimuli/SelectedImages/LN/LN131.bmp        NaN  ...            forget   \n",
      "..                                     ...        ...  ...               ...   \n",
      "732  ./Stimuli/SelectedImages/SM/SM200.bmp        NaN  ...            forget   \n",
      "734  ./Stimuli/SelectedImages/LM/LM157.bmp        NaN  ...          remember   \n",
      "736  ./Stimuli/SelectedImages/SM/SM213.bmp        NaN  ...            forget   \n",
      "738  ./Stimuli/SelectedImages/SN/SN240.bmp        NaN  ...          remember   \n",
      "740  ./Stimuli/SelectedImages/LN/LN166.bmp        NaN  ...            forget   \n",
      "\n",
      "    list trial_num block_num   block  response  test_part n_span sequence  \\\n",
      "133  old      49.0       3.0  prime1  too_slow        NaN    NaN      NaN   \n",
      "137  old      50.0       3.0  prime1  too_slow        NaN    NaN      NaN   \n",
      "141  old      51.0       3.0  prime1  too_slow        NaN    NaN      NaN   \n",
      "145  old      52.0       3.0  prime1  too_slow        NaN    NaN      NaN   \n",
      "149  old      53.0       3.0  prime1  too_slow        NaN    NaN      NaN   \n",
      "..   ...       ...       ...     ...       ...        ...    ...      ...   \n",
      "732  old     204.0      23.0  probe1  too_slow        NaN    NaN      NaN   \n",
      "734  old     205.0      23.0  probe1  too_slow        NaN    NaN      NaN   \n",
      "736  old     206.0      23.0  probe1  too_slow        NaN    NaN      NaN   \n",
      "738  old     207.0      23.0  probe1  too_slow        NaN    NaN      NaN   \n",
      "740  old     208.0      23.0  probe1  too_slow        NaN    NaN      NaN   \n",
      "\n",
      "    num_spaces  \n",
      "133        NaN  \n",
      "137        NaN  \n",
      "141        NaN  \n",
      "145        NaN  \n",
      "149        NaN  \n",
      "..         ...  \n",
      "732        NaN  \n",
      "734        NaN  \n",
      "736        NaN  \n",
      "738        NaN  \n",
      "740        NaN  \n",
      "\n",
      "[160 rows x 30 columns]\n"
     ]
    }
   ],
   "source": [
    "print(df_test\n",
    "     )"
   ]
  },
  {
   "cell_type": "code",
   "execution_count": 171,
   "metadata": {},
   "outputs": [],
   "source": [
    "\n",
    "use_for_cate = [\n",
    "       'trial_type', \n",
    "       'trial_index', \n",
    "       'exp_part',\n",
    "       'subject', \n",
    "       'rt', \n",
    "       'stimulus', \n",
    "       'key_press',\n",
    "       'test_part', \n",
    "       'correct',\n",
    "       'resp_map', \n",
    "       'correct_resp', \n",
    "       'probe_condition', \n",
    "       'category', \n",
    "       'image',\n",
    "       'forget_condition', \n",
    "       'list', \n",
    "       'trial_num',\n",
    "       'response',\n",
    "       'block_num',\n",
    "       'block'\n",
    "        ]"
   ]
  },
  {
   "cell_type": "code",
   "execution_count": 172,
   "metadata": {},
   "outputs": [],
   "source": [
    "\n",
    "df_test = df_test[use_for_cate]"
   ]
  },
  {
   "cell_type": "code",
   "execution_count": 173,
   "metadata": {},
   "outputs": [
    {
     "name": "stdout",
     "output_type": "stream",
     "text": [
      "           trial_type  trial_index exp_part          subject  rt  \\\n",
      "133  categorize-image          133    prime  67getpwrcwbhxh9 NaN   \n",
      "137  categorize-image          137    prime  67getpwrcwbhxh9 NaN   \n",
      "141  categorize-image          141    prime  67getpwrcwbhxh9 NaN   \n",
      "145  categorize-image          145    prime  67getpwrcwbhxh9 NaN   \n",
      "149  categorize-image          149    prime  67getpwrcwbhxh9 NaN   \n",
      "..                ...          ...      ...              ...  ..   \n",
      "732  categorize-image          732    probe  67getpwrcwbhxh9 NaN   \n",
      "734  categorize-image          734    probe  67getpwrcwbhxh9 NaN   \n",
      "736  categorize-image          736    probe  67getpwrcwbhxh9 NaN   \n",
      "738  categorize-image          738    probe  67getpwrcwbhxh9 NaN   \n",
      "740  categorize-image          740    probe  67getpwrcwbhxh9 NaN   \n",
      "\n",
      "                                  stimulus  key_press test_part correct  \\\n",
      "133  ./Stimuli/SelectedImages/SN/SN181.bmp        NaN       NaN   False   \n",
      "137  ./Stimuli/SelectedImages/SM/SM207.bmp        NaN       NaN   False   \n",
      "141  ./Stimuli/SelectedImages/SN/SN182.bmp        NaN       NaN   False   \n",
      "145  ./Stimuli/SelectedImages/SM/SM213.bmp        NaN       NaN   False   \n",
      "149  ./Stimuli/SelectedImages/LN/LN131.bmp        NaN       NaN   False   \n",
      "..                                     ...        ...       ...     ...   \n",
      "732  ./Stimuli/SelectedImages/SM/SM200.bmp        NaN       NaN   False   \n",
      "734  ./Stimuli/SelectedImages/LM/LM157.bmp        NaN       NaN   False   \n",
      "736  ./Stimuli/SelectedImages/SM/SM213.bmp        NaN       NaN   False   \n",
      "738  ./Stimuli/SelectedImages/SN/SN240.bmp        NaN       NaN   False   \n",
      "740  ./Stimuli/SelectedImages/LN/LN166.bmp        NaN       NaN   False   \n",
      "\n",
      "    resp_map  correct_resp probe_condition category      image  \\\n",
      "133    N + M          83.0      repetition       SN  SN181.bmp   \n",
      "137    N + M          76.0          switch       SM  SM207.bmp   \n",
      "141    N + M          83.0      repetition       SN  SN182.bmp   \n",
      "145    M + N          83.0      repetition       SM  SM213.bmp   \n",
      "149    N + M          83.0          switch       LN  LN131.bmp   \n",
      "..       ...           ...             ...      ...        ...   \n",
      "732    M + N          83.0          switch       SM  SM200.bmp   \n",
      "734    N + M          76.0          switch       LM  LM157.bmp   \n",
      "736    M + N          83.0      repetition       SM  SM213.bmp   \n",
      "738    M + N          76.0          switch       SN  SN240.bmp   \n",
      "740    N + M          83.0          switch       LN  LN166.bmp   \n",
      "\n",
      "    forget_condition list  trial_num  response  block_num   block  \n",
      "133           forget  old       49.0  too_slow        3.0  prime1  \n",
      "137         remember  old       50.0  too_slow        3.0  prime1  \n",
      "141         remember  old       51.0  too_slow        3.0  prime1  \n",
      "145           forget  old       52.0  too_slow        3.0  prime1  \n",
      "149           forget  old       53.0  too_slow        3.0  prime1  \n",
      "..               ...  ...        ...       ...        ...     ...  \n",
      "732           forget  old      204.0  too_slow       23.0  probe1  \n",
      "734         remember  old      205.0  too_slow       23.0  probe1  \n",
      "736           forget  old      206.0  too_slow       23.0  probe1  \n",
      "738         remember  old      207.0  too_slow       23.0  probe1  \n",
      "740           forget  old      208.0  too_slow       23.0  probe1  \n",
      "\n",
      "[160 rows x 20 columns]\n"
     ]
    }
   ],
   "source": [
    "print(df_test)"
   ]
  },
  {
   "cell_type": "code",
   "execution_count": 174,
   "metadata": {},
   "outputs": [],
   "source": [
    "df_survey = data[data.exp_part == 'survey']"
   ]
  },
  {
   "cell_type": "code",
   "execution_count": 175,
   "metadata": {},
   "outputs": [
    {
     "name": "stdout",
     "output_type": "stream",
     "text": [
      "              trial_type  trial_index  time_elapsed internal_node_id  \\\n",
      "743        survey-likert          743        426097  0.0-7.0-0.0-1.0   \n",
      "744          survey-text          744        428217  0.0-7.0-0.0-2.0   \n",
      "745  survey-multi-choice          745        429658  0.0-7.0-0.0-3.0   \n",
      "746          survey-text          746        431097  0.0-7.0-0.0-4.0   \n",
      "748        survey-likert          748        436538  0.0-7.0-0.0-6.0   \n",
      "749          survey-text          749        438579  0.0-7.0-0.0-7.0   \n",
      "750  survey-multi-choice          750        440818  0.0-7.0-0.0-8.0   \n",
      "751        survey-likert          751        442283  0.0-7.0-0.0-9.0   \n",
      "\n",
      "             subject exp_part   use        rt stimulus  key_press  ...  \\\n",
      "743  67getpwrcwbhxh9   survey  True  3762.705      NaN        NaN  ...   \n",
      "744  67getpwrcwbhxh9   survey  True  2116.110      NaN        NaN  ...   \n",
      "745  67getpwrcwbhxh9   survey  True  1438.265      NaN        NaN  ...   \n",
      "746  67getpwrcwbhxh9   survey  True  1436.205      NaN        NaN  ...   \n",
      "748  67getpwrcwbhxh9   survey  True  4907.520      NaN        NaN  ...   \n",
      "749  67getpwrcwbhxh9   survey  True  2038.335      NaN        NaN  ...   \n",
      "750  67getpwrcwbhxh9   survey  True  2238.540      NaN        NaN  ...   \n",
      "751  67getpwrcwbhxh9   survey  True  1462.505      NaN        NaN  ...   \n",
      "\n",
      "     forget_condition list trial_num block_num block response  test_part  \\\n",
      "743               NaN  NaN       NaN       NaN   NaN      NaN        NaN   \n",
      "744               NaN  NaN       NaN       NaN   NaN      NaN        NaN   \n",
      "745               NaN  NaN       NaN       NaN   NaN      NaN        NaN   \n",
      "746               NaN  NaN       NaN       NaN   NaN      NaN        NaN   \n",
      "748               NaN  NaN       NaN       NaN   NaN      NaN        NaN   \n",
      "749               NaN  NaN       NaN       NaN   NaN      NaN        NaN   \n",
      "750               NaN  NaN       NaN       NaN   NaN      NaN        NaN   \n",
      "751               NaN  NaN       NaN       NaN   NaN      NaN        NaN   \n",
      "\n",
      "    n_span sequence num_spaces  \n",
      "743    NaN      NaN        NaN  \n",
      "744    NaN      NaN        NaN  \n",
      "745    NaN      NaN        NaN  \n",
      "746    NaN      NaN        NaN  \n",
      "748    NaN      NaN        NaN  \n",
      "749    NaN      NaN        NaN  \n",
      "750    NaN      NaN        NaN  \n",
      "751    NaN      NaN        NaN  \n",
      "\n",
      "[8 rows x 30 columns]\n"
     ]
    }
   ],
   "source": [
    "print(df_survey)"
   ]
  },
  {
   "cell_type": "code",
   "execution_count": 176,
   "metadata": {},
   "outputs": [],
   "source": [
    "#corsi\n",
    "df_corsi = data[data.exp_part == 'corsi']\n",
    "\n",
    "df_corsi = df_corsi[[\n",
    "       'trial_type', \n",
    "       'trial_index', \n",
    "       'subject',\n",
    "       'num_spaces', \n",
    "       'sequence',\n",
    "       'correct',\n",
    "       'correct_resp', \n",
    "       'trial_num', 'response', 'n_span'\n",
    "        ]]"
   ]
  },
  {
   "cell_type": "code",
   "execution_count": 177,
   "metadata": {},
   "outputs": [],
   "source": [
    "##export csvs\n",
    "df_test.to_csv('prep_data/test.csv', index=False)\n",
    "df_survey.to_csv('prep_data/survey.csv', index=False)\n",
    "df_corsi.to_csv('prep_data/corsi.csv', index=False)\n",
    "df_welcome.to_csv('prep_data/welcome.csv', index=False)\n",
    "df_demographics.to_csv('prep_data/demographics.csv', index=False)"
   ]
  },
  {
   "cell_type": "code",
   "execution_count": null,
   "metadata": {},
   "outputs": [],
   "source": []
  },
  {
   "cell_type": "code",
   "execution_count": null,
   "metadata": {},
   "outputs": [],
   "source": []
  },
  {
   "cell_type": "code",
   "execution_count": null,
   "metadata": {},
   "outputs": [],
   "source": []
  }
 ],
 "metadata": {
  "kernelspec": {
   "display_name": "Python 3",
   "language": "python",
   "name": "python3"
  },
  "language_info": {
   "codemirror_mode": {
    "name": "ipython",
    "version": 3
   },
   "file_extension": ".py",
   "mimetype": "text/x-python",
   "name": "python",
   "nbconvert_exporter": "python",
   "pygments_lexer": "ipython3",
   "version": "3.7.7"
  }
 },
 "nbformat": 4,
 "nbformat_minor": 4
}
