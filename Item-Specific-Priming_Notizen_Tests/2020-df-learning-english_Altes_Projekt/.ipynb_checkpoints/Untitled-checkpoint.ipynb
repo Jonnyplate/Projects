{
 "cells": [
  {
   "cell_type": "code",
   "execution_count": 43,
   "metadata": {},
   "outputs": [],
   "source": [
    "import numpy as np\n",
    "import pandas as pd\n",
    "import os\n",
    "from os import listdir\n",
    "from os.path import isfile, join\n",
    "import glob\n",
    "\n",
    "import sys\n",
    "import seaborn as sns\n"
   ]
  },
  {
   "cell_type": "code",
   "execution_count": 44,
   "metadata": {},
   "outputs": [],
   "source": [
    "mypath = os. getcwd()"
   ]
  },
  {
   "cell_type": "code",
   "execution_count": 45,
   "metadata": {},
   "outputs": [
    {
     "name": "stdout",
     "output_type": "stream",
     "text": [
      "C:\\Users\\Hannah\\Desktop\\Repos\\PAVLOVIA\\2020-df-learning-german\\data\n",
      "test\n",
      "['C:\\\\Users\\\\Hannah\\\\Desktop\\\\Repos\\\\PAVLOVIA\\\\2020-df-learning-german\\\\data\\\\2020-df-learning-german_v3j2sklecka7z42_SESSION_2020-07-30_17h33.50.345.csv']\n"
     ]
    }
   ],
   "source": [
    "mypath = mypath + \"\\data\"\n",
    "print(mypath)\n",
    "print('test')\n",
    "#get file names in data folder\n",
    "files = glob.glob(os.path.join(mypath, \"*.csv\"))\n",
    "print(files)"
   ]
  },
  {
   "cell_type": "code",
   "execution_count": 46,
   "metadata": {},
   "outputs": [],
   "source": [
    "li = []"
   ]
  },
  {
   "cell_type": "code",
   "execution_count": 66,
   "metadata": {},
   "outputs": [
    {
     "name": "stdout",
     "output_type": "stream",
     "text": [
      "                 trial_type  trial_index  time_elapsed internal_node_id  \\\n",
      "0                  pavlovia            0             3          0.0-0.0   \n",
      "1    html-keyboard-response            1           980  0.0-1.0-0.0-0.0   \n",
      "2    html-keyboard-response            2          1860  0.0-1.0-0.0-1.0   \n",
      "3      html-button-response            3          6072  0.0-1.0-0.0-2.0   \n",
      "4    html-keyboard-response            4          6703  0.0-1.0-0.0-3.0   \n",
      "..                      ...          ...           ...              ...   \n",
      "874           survey-likert          874        287554  0.0-7.0-0.0-6.0   \n",
      "875             survey-text          875        289570  0.0-7.0-0.0-7.0   \n",
      "876     survey-multi-choice          876        294195  0.0-7.0-0.0-8.0   \n",
      "877           survey-likert          877        297492  0.0-7.0-0.0-9.0   \n",
      "878    html-button-response          878        298171      0.0-7.0-1.0   \n",
      "\n",
      "             subject      exp_part    use        rt  \\\n",
      "0    v3j2sklecka7z42           NaN  False       NaN   \n",
      "1    v3j2sklecka7z42       welcome  False   975.200   \n",
      "2    v3j2sklecka7z42       welcome  False   878.450   \n",
      "3    v3j2sklecka7z42       welcome   True  4210.745   \n",
      "4    v3j2sklecka7z42       welcome  False   629.050   \n",
      "..               ...           ...    ...       ...   \n",
      "874  v3j2sklecka7z42        survey   True  4033.640   \n",
      "875  v3j2sklecka7z42        survey   True  2012.930   \n",
      "876  v3j2sklecka7z42        survey   True  4623.705   \n",
      "877  v3j2sklecka7z42        survey   True  3294.875   \n",
      "878  v3j2sklecka7z42  instructions   True   677.015   \n",
      "\n",
      "                                              stimulus  key_press  ...  \\\n",
      "0                                                  NaN        NaN  ...   \n",
      "1    <div align=left><strong>Liebe Teilnehmerin, li...       32.0  ...   \n",
      "2    <div align=left><strong> Ablauf dieser Studie:...       32.0  ...   \n",
      "3    <div align=left><strong> Informierte Einwillig...        NaN  ...   \n",
      "4    <div align=left><strong> Hinweise zur Durchfüh...       32.0  ...   \n",
      "..                                                 ...        ...  ...   \n",
      "874                                                NaN        NaN  ...   \n",
      "875                                                NaN        NaN  ...   \n",
      "876                                                NaN        NaN  ...   \n",
      "877                                                NaN        NaN  ...   \n",
      "878  <div align=left> Geschafft - Vielen Dank für I...        NaN  ...   \n",
      "\n",
      "     category image forget_condition list  trial_num response test_part  \\\n",
      "0         NaN   NaN              NaN  NaN        NaN      NaN       NaN   \n",
      "1         NaN   NaN              NaN  NaN        NaN      NaN       NaN   \n",
      "2         NaN   NaN              NaN  NaN        NaN      NaN       NaN   \n",
      "3         NaN   NaN              NaN  NaN        NaN      NaN       NaN   \n",
      "4         NaN   NaN              NaN  NaN        NaN      NaN       NaN   \n",
      "..        ...   ...              ...  ...        ...      ...       ...   \n",
      "874       NaN   NaN              NaN  NaN        NaN      NaN       NaN   \n",
      "875       NaN   NaN              NaN  NaN        NaN      NaN       NaN   \n",
      "876       NaN   NaN              NaN  NaN        NaN      NaN       NaN   \n",
      "877       NaN   NaN              NaN  NaN        NaN      NaN       NaN   \n",
      "878       NaN   NaN              NaN  NaN        NaN      NaN       NaN   \n",
      "\n",
      "    n_span  sequence num_spaces  \n",
      "0      NaN       NaN        NaN  \n",
      "1      NaN       NaN        NaN  \n",
      "2      NaN       NaN        NaN  \n",
      "3      NaN       NaN        NaN  \n",
      "4      NaN       NaN        NaN  \n",
      "..     ...       ...        ...  \n",
      "874    NaN       NaN        NaN  \n",
      "875    NaN       NaN        NaN  \n",
      "876    NaN       NaN        NaN  \n",
      "877    NaN       NaN        NaN  \n",
      "878    NaN       NaN        NaN  \n",
      "\n",
      "[879 rows x 30 columns]\n"
     ]
    }
   ],
   "source": [
    "raw_df = pd.concat(\n",
    "    (pd.read_csv(f) for f in files),\n",
    "    sort=False)\n",
    "print(raw_df)"
   ]
  },
  {
   "cell_type": "code",
   "execution_count": 67,
   "metadata": {},
   "outputs": [
    {
     "name": "stdout",
     "output_type": "stream",
     "text": [
      "['welcome' 'demographics' 'practice_no_cue' 'practice_cue'\n",
      " 'practice_recog' 'prime' 'corsi' 'probe' 'survey' 'instructions']\n"
     ]
    }
   ],
   "source": [
    "data = raw_df[raw_df.use == True]\n",
    "\n",
    "#get unique exp_part identifiers\n",
    "parts = data.exp_part.unique()\n",
    "print(parts)"
   ]
  },
  {
   "cell_type": "code",
   "execution_count": 68,
   "metadata": {},
   "outputs": [
    {
     "data": {
      "text/plain": [
       "['trial_type',\n",
       " 'trial_index',\n",
       " 'time_elapsed',\n",
       " 'internal_node_id',\n",
       " 'subject',\n",
       " 'exp_part',\n",
       " 'use',\n",
       " 'rt',\n",
       " 'stimulus',\n",
       " 'key_press',\n",
       " 'button_pressed',\n",
       " 'responses',\n",
       " 'question_order',\n",
       " 'trial_part',\n",
       " 'block_num',\n",
       " 'block',\n",
       " 'correct',\n",
       " 'resp_map',\n",
       " 'correct_resp',\n",
       " 'probe_condition',\n",
       " 'category',\n",
       " 'image',\n",
       " 'forget_condition',\n",
       " 'list',\n",
       " 'trial_num',\n",
       " 'response',\n",
       " 'test_part',\n",
       " 'n_span',\n",
       " 'sequence',\n",
       " 'num_spaces']"
      ]
     },
     "execution_count": 68,
     "metadata": {},
     "output_type": "execute_result"
    }
   ],
   "source": [
    "list(data.columns) "
   ]
  },
  {
   "cell_type": "code",
   "execution_count": 70,
   "metadata": {},
   "outputs": [
    {
     "name": "stdout",
     "output_type": "stream",
     "text": [
      "             trial_type  trial_index  time_elapsed internal_node_id  \\\n",
      "3  html-button-response            3          6072  0.0-1.0-0.0-2.0   \n",
      "\n",
      "           subject exp_part   use        rt  \\\n",
      "3  v3j2sklecka7z42  welcome  True  4210.745   \n",
      "\n",
      "                                            stimulus  key_press  ...  \\\n",
      "3  <div align=left><strong> Informierte Einwillig...        NaN  ...   \n",
      "\n",
      "   category image forget_condition list  trial_num response test_part n_span  \\\n",
      "3       NaN   NaN              NaN  NaN        NaN      NaN       NaN    NaN   \n",
      "\n",
      "   sequence num_spaces  \n",
      "3       NaN        NaN  \n",
      "\n",
      "[1 rows x 30 columns]\n"
     ]
    },
    {
     "data": {
      "text/plain": [
       "['trial_type',\n",
       " 'trial_index',\n",
       " 'time_elapsed',\n",
       " 'internal_node_id',\n",
       " 'subject',\n",
       " 'exp_part',\n",
       " 'use',\n",
       " 'rt',\n",
       " 'stimulus',\n",
       " 'key_press',\n",
       " 'button_pressed',\n",
       " 'responses',\n",
       " 'question_order',\n",
       " 'trial_part',\n",
       " 'block_num',\n",
       " 'block',\n",
       " 'correct',\n",
       " 'resp_map',\n",
       " 'correct_resp',\n",
       " 'probe_condition',\n",
       " 'category',\n",
       " 'image',\n",
       " 'forget_condition',\n",
       " 'list',\n",
       " 'trial_num',\n",
       " 'response',\n",
       " 'test_part',\n",
       " 'n_span',\n",
       " 'sequence',\n",
       " 'num_spaces']"
      ]
     },
     "execution_count": 70,
     "metadata": {},
     "output_type": "execute_result"
    }
   ],
   "source": [
    "df_welcome = data[data.exp_part == 'welcome']\n",
    "print(df_welcome)\n",
    "list(df_welcome.columns)"
   ]
  },
  {
   "cell_type": "code",
   "execution_count": 71,
   "metadata": {},
   "outputs": [],
   "source": [
    "df_welcome = df_welcome[[\n",
    "       'trial_type', \n",
    "       'trial_index', \n",
    "       'button_pressed',\n",
    "       'subject',\n",
    "       'rt',\n",
    "       'block_num',\n",
    "       'block'\n",
    "        ]]"
   ]
  },
  {
   "cell_type": "code",
   "execution_count": 72,
   "metadata": {},
   "outputs": [
    {
     "name": "stdout",
     "output_type": "stream",
     "text": [
      "             trial_type  trial_index  button_pressed          subject  \\\n",
      "3  html-button-response            3             0.0  v3j2sklecka7z42   \n",
      "\n",
      "         rt  block_num block  \n",
      "3  4210.745        NaN   NaN  \n"
     ]
    }
   ],
   "source": [
    "print(df_welcome)"
   ]
  },
  {
   "cell_type": "code",
   "execution_count": 73,
   "metadata": {},
   "outputs": [
    {
     "name": "stdout",
     "output_type": "stream",
     "text": [
      "            trial_type  trial_index  time_elapsed     internal_node_id  \\\n",
      "5          survey-text            5          7961      0.0-1.0-1.0-0.0   \n",
      "6  survey-multi-choice            6         12713      0.0-1.0-1.0-1.0   \n",
      "7          survey-text            7         15088  0.0-1.0-1.0-2.0-0.0   \n",
      "\n",
      "           subject      exp_part   use       rt stimulus  key_press  ...  \\\n",
      "5  v3j2sklecka7z42  demographics  True  1253.57      NaN        NaN  ...   \n",
      "6  v3j2sklecka7z42  demographics  True  4749.53      NaN        NaN  ...   \n",
      "7  v3j2sklecka7z42  demographics  True  2362.43      NaN        NaN  ...   \n",
      "\n",
      "   category image forget_condition list  trial_num response test_part n_span  \\\n",
      "5       NaN   NaN              NaN  NaN        NaN      NaN       NaN    NaN   \n",
      "6       NaN   NaN              NaN  NaN        NaN      NaN       NaN    NaN   \n",
      "7       NaN   NaN              NaN  NaN        NaN      NaN       NaN    NaN   \n",
      "\n",
      "   sequence num_spaces  \n",
      "5       NaN        NaN  \n",
      "6       NaN        NaN  \n",
      "7       NaN        NaN  \n",
      "\n",
      "[3 rows x 30 columns]\n"
     ]
    }
   ],
   "source": [
    "\n",
    "#demographics\n",
    "df_demographics = data[data.exp_part == 'demographics']\n",
    "\n",
    "print(df_demographics)"
   ]
  },
  {
   "cell_type": "code",
   "execution_count": 74,
   "metadata": {},
   "outputs": [],
   "source": [
    "df_demographics = df_demographics[[\n",
    "       'trial_type', \n",
    "       'trial_index', \n",
    "       'subject',\n",
    "       'rt', \n",
    "       'responses', \n",
    "       'question_order'\n",
    "        ]]\n"
   ]
  },
  {
   "cell_type": "code",
   "execution_count": 75,
   "metadata": {},
   "outputs": [
    {
     "name": "stdout",
     "output_type": "stream",
     "text": [
      "3              welcome\n",
      "5         demographics\n",
      "6         demographics\n",
      "7         demographics\n",
      "12     practice_no_cue\n",
      "            ...       \n",
      "874             survey\n",
      "875             survey\n",
      "876             survey\n",
      "877             survey\n",
      "878       instructions\n",
      "Name: exp_part, Length: 278, dtype: object\n"
     ]
    }
   ],
   "source": [
    "print(data.exp_part)\n",
    "trial_parts = pd.Series(['practice', 'prime', 'practice_forget',\n",
    "             'practice_recognition', 'prime_forget',\n",
    "             'probe'])"
   ]
  },
  {
   "cell_type": "code",
   "execution_count": 76,
   "metadata": {},
   "outputs": [],
   "source": [
    "df_test = data[data.exp_part.isin(trial_parts)]"
   ]
  },
  {
   "cell_type": "code",
   "execution_count": 77,
   "metadata": {},
   "outputs": [
    {
     "name": "stdout",
     "output_type": "stream",
     "text": [
      "           trial_type  trial_index  time_elapsed  internal_node_id  \\\n",
      "170  categorize-image          170         30292   0.0-4.0-1.0-1.0   \n",
      "174  categorize-image          174         30324   0.0-4.0-1.0-1.1   \n",
      "178  categorize-image          178         30353   0.0-4.0-1.0-1.2   \n",
      "182  categorize-image          182         30386   0.0-4.0-1.0-1.3   \n",
      "186  categorize-image          186         30417   0.0-4.0-1.0-1.4   \n",
      "..                ...          ...           ...               ...   \n",
      "858  categorize-image          858        271134  0.0-6.0-1.0-1.27   \n",
      "860  categorize-image          860        271153  0.0-6.0-1.0-1.28   \n",
      "862  categorize-image          862        271172  0.0-6.0-1.0-1.29   \n",
      "864  categorize-image          864        271192  0.0-6.0-1.0-1.30   \n",
      "866  categorize-image          866        271210  0.0-6.0-1.0-1.31   \n",
      "\n",
      "             subject exp_part   use  rt  \\\n",
      "170  v3j2sklecka7z42    prime  True NaN   \n",
      "174  v3j2sklecka7z42    prime  True NaN   \n",
      "178  v3j2sklecka7z42    prime  True NaN   \n",
      "182  v3j2sklecka7z42    prime  True NaN   \n",
      "186  v3j2sklecka7z42    prime  True NaN   \n",
      "..               ...      ...   ...  ..   \n",
      "858  v3j2sklecka7z42    probe  True NaN   \n",
      "860  v3j2sklecka7z42    probe  True NaN   \n",
      "862  v3j2sklecka7z42    probe  True NaN   \n",
      "864  v3j2sklecka7z42    probe  True NaN   \n",
      "866  v3j2sklecka7z42    probe  True NaN   \n",
      "\n",
      "                                  stimulus  key_press  ...  category  \\\n",
      "170  ./Stimuli/SelectedImages/LM/LM150.bmp        NaN  ...        LM   \n",
      "174  ./Stimuli/SelectedImages/SN/SN111.bmp        NaN  ...        SN   \n",
      "178  ./Stimuli/SelectedImages/LM/LM235.bmp        NaN  ...        LM   \n",
      "182   ./Stimuli/SelectedImages/SN/SN60.bmp        NaN  ...        SN   \n",
      "186   ./Stimuli/SelectedImages/SN/SN64.bmp        NaN  ...        SN   \n",
      "..                                     ...        ...  ...       ...   \n",
      "858  ./Stimuli/SelectedImages/SM/SM207.bmp        NaN  ...        SM   \n",
      "860  ./Stimuli/SelectedImages/SN/SN128.bmp        NaN  ...        SN   \n",
      "862  ./Stimuli/SelectedImages/SM/SM148.bmp        NaN  ...        SM   \n",
      "864  ./Stimuli/SelectedImages/LM/LM157.bmp        NaN  ...        LM   \n",
      "866  ./Stimuli/SelectedImages/LM/LM235.bmp        NaN  ...        LM   \n",
      "\n",
      "         image forget_condition list  trial_num  response test_part n_span  \\\n",
      "170  LM150.bmp         remember  old       65.0  too_slow       NaN    NaN   \n",
      "174  SN111.bmp         remember  old       66.0  too_slow       NaN    NaN   \n",
      "178  LM235.bmp           forget  old       67.0  too_slow       NaN    NaN   \n",
      "182   SN60.bmp         remember  old       68.0  too_slow       NaN    NaN   \n",
      "186   SN64.bmp           forget  old       69.0  too_slow       NaN    NaN   \n",
      "..         ...              ...  ...        ...       ...       ...    ...   \n",
      "858  SM207.bmp           forget  old      220.0  too_slow       NaN    NaN   \n",
      "860  SN128.bmp         remember  old      221.0  too_slow       NaN    NaN   \n",
      "862  SM148.bmp           forget  old      222.0  too_slow       NaN    NaN   \n",
      "864  LM157.bmp         remember  old      223.0  too_slow       NaN    NaN   \n",
      "866  LM235.bmp           forget  old      224.0  too_slow       NaN    NaN   \n",
      "\n",
      "     sequence num_spaces  \n",
      "170       NaN        NaN  \n",
      "174       NaN        NaN  \n",
      "178       NaN        NaN  \n",
      "182       NaN        NaN  \n",
      "186       NaN        NaN  \n",
      "..        ...        ...  \n",
      "858       NaN        NaN  \n",
      "860       NaN        NaN  \n",
      "862       NaN        NaN  \n",
      "864       NaN        NaN  \n",
      "866       NaN        NaN  \n",
      "\n",
      "[160 rows x 30 columns]\n"
     ]
    }
   ],
   "source": [
    "print(df_test\n",
    "     )"
   ]
  },
  {
   "cell_type": "code",
   "execution_count": 64,
   "metadata": {},
   "outputs": [],
   "source": [
    "\n",
    "use_for_cate = [\n",
    "       'trial_type', \n",
    "       'trial_index', \n",
    "       'exp_part',\n",
    "       'subject', \n",
    "       'rt', \n",
    "       'stimulus', \n",
    "       'key_press',\n",
    "       'test_part', \n",
    "       'correct',\n",
    "       'resp_map', \n",
    "       'correct_resp', \n",
    "       'probe_condition', \n",
    "       'category', \n",
    "       'image',\n",
    "       'forget_condition', \n",
    "       'list', \n",
    "       'trial_num',\n",
    "       'response',\n",
    "       'block_num',\n",
    "       'block'\n",
    "        ]"
   ]
  },
  {
   "cell_type": "code",
   "execution_count": 65,
   "metadata": {},
   "outputs": [],
   "source": [
    "\n",
    "df_test = df_test[use_for_cate]"
   ]
  },
  {
   "cell_type": "code",
   "execution_count": 66,
   "metadata": {},
   "outputs": [
    {
     "name": "stdout",
     "output_type": "stream",
     "text": [
      "Empty DataFrame\n",
      "Columns: [trial_type, trial_index, exp_part, subject, rt, stimulus, key_press, test_part, correct, resp_map, correct_resp, probe_condition, category, image, forget_condition, list, trial_num, response]\n",
      "Index: []\n"
     ]
    }
   ],
   "source": [
    "print(df_test)"
   ]
  },
  {
   "cell_type": "code",
   "execution_count": 47,
   "metadata": {},
   "outputs": [],
   "source": [
    "df_survey = data[data.exp_part == 'survey']"
   ]
  },
  {
   "cell_type": "code",
   "execution_count": 48,
   "metadata": {},
   "outputs": [
    {
     "name": "stdout",
     "output_type": "stream",
     "text": [
      "        trial_type  trial_index  time_elapsed internal_node_id  \\\n",
      "773  survey-likert          773       3890059  0.0-7.0-0.0-1.0   \n",
      "774    survey-text          774       3901396  0.0-7.0-0.0-2.0   \n",
      "776    survey-text          776       3983541  0.0-7.0-0.0-4.0   \n",
      "778  survey-likert          778       4115319  0.0-7.0-0.0-6.0   \n",
      "779    survey-text          779       4126664  0.0-7.0-0.0-7.0   \n",
      "780  survey-likert          780       4173843  0.0-7.0-0.0-8.0   \n",
      "\n",
      "             subject exp_part   use       rt stimulus  key_press  ...  \\\n",
      "773  3zjorfth0ng2ypr   survey  True  11882.0      NaN        NaN  ...   \n",
      "774  3zjorfth0ng2ypr   survey  True  11326.0      NaN        NaN  ...   \n",
      "776  3zjorfth0ng2ypr   survey  True  40918.0      NaN        NaN  ...   \n",
      "778  3zjorfth0ng2ypr   survey  True  16944.0      NaN        NaN  ...   \n",
      "779  3zjorfth0ng2ypr   survey  True  11342.0      NaN        NaN  ...   \n",
      "780  3zjorfth0ng2ypr   survey  True  47178.0      NaN        NaN  ...   \n",
      "\n",
      "     category image forget_condition list  trial_num response test_part  \\\n",
      "773       NaN   NaN              NaN  NaN        NaN      NaN       NaN   \n",
      "774       NaN   NaN              NaN  NaN        NaN      NaN       NaN   \n",
      "776       NaN   NaN              NaN  NaN        NaN      NaN       NaN   \n",
      "778       NaN   NaN              NaN  NaN        NaN      NaN       NaN   \n",
      "779       NaN   NaN              NaN  NaN        NaN      NaN       NaN   \n",
      "780       NaN   NaN              NaN  NaN        NaN      NaN       NaN   \n",
      "\n",
      "    n_span  sequence num_spaces  \n",
      "773    NaN       NaN        NaN  \n",
      "774    NaN       NaN        NaN  \n",
      "776    NaN       NaN        NaN  \n",
      "778    NaN       NaN        NaN  \n",
      "779    NaN       NaN        NaN  \n",
      "780    NaN       NaN        NaN  \n",
      "\n",
      "[6 rows x 30 columns]\n"
     ]
    }
   ],
   "source": [
    "print(df_survey)"
   ]
  },
  {
   "cell_type": "code",
   "execution_count": null,
   "metadata": {},
   "outputs": [],
   "source": []
  }
 ],
 "metadata": {
  "kernelspec": {
   "display_name": "Python 3",
   "language": "python",
   "name": "python3"
  },
  "language_info": {
   "codemirror_mode": {
    "name": "ipython",
    "version": 3
   },
   "file_extension": ".py",
   "mimetype": "text/x-python",
   "name": "python",
   "nbconvert_exporter": "python",
   "pygments_lexer": "ipython3",
   "version": "3.7.7"
  }
 },
 "nbformat": 4,
 "nbformat_minor": 4
}
